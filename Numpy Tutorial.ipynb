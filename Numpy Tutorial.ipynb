{
 "cells": [
  {
   "cell_type": "markdown",
   "id": "6c6832b3",
   "metadata": {},
   "source": [
    "<div class=\"alert alert-block alert-danger\">   \n",
    "<p style=\"padding:50px;background-color:#0f0d0d;margin:0;color:#e9c46a;font-family:newtimeroman;font-size:50px;text-align:center;border-radius: 00px 00px;overflow:hidden;font-weight:500\">Numpy Tutorial</p></div> "
   ]
  },
  {
   "cell_type": "markdown",
   "id": "76f2ce18",
   "metadata": {},
   "source": [
    "<strong><font color=b16e0d> In this Notebook we can learn Numpy: </font><strong><br>\n",
    "- What is NumPy Library and how to import NumPy Library.\n",
    "- Difference between One-Dimentional and Two-Dimentional Array.\n",
    "- How to access elements in NumPy.\n",
    "- Important attributes of NumPy.\n",
    "- Creating array having all elements Zero and One's\n",
    "- Basic Math with NumPy\n",
    "- Important Statistics Functions in NumPy\n",
    "- How to Split NumPy"
   ]
  },
  {
   "cell_type": "markdown",
   "id": "66a412b6",
   "metadata": {},
   "source": [
    "<a id=\"20\"></a>\n",
    "<p style=\"padding:10px;background-color:#0f0d0d;margin:0;color:#e9c46a;font-family:newtimeroman;font-size:150%;text-align:center;border-radius: 15px 50px;overflow:hidden;font-weight:500\">Table of Contents</p>"
   ]
  },
  {
   "cell_type": "markdown",
   "id": "cda3e437",
   "metadata": {},
   "source": [
    "    \n",
    "|No  | Contents |No  | Contents  |\n",
    "|:---| :---     |:---| :----     |\n",
    "|1   | [<font color=\"#254441\"> Introduction</font>](#1)                   |8   | [<font color=\"#254441\">Maths with Numpy </font>](#8)   |     \n",
    "|2   | [<font color=\"#254441\"> 1-D Array</font>](#2)                         |9  | [<font color=\"#254441\">  Array with random values](#9)|      \n",
    "|3   | [<font color=\"#254441\"> 2-D Array</font>](#3)                     |10  | [<font color=\"#254441\">Min & Max values</font>](#10)   |    \n",
    "|4   | [<font color=\"#254441\">Slicing</font>](#4)                       |11  | [<font color=\"#254441\">Round Down & Round up</font>](#11)|       \n",
    "|5   | [<font color=\"#254441\"> Attributes of Numpy</font>](#5)      |12  | [<font color=\"#254441\"> Statistics Functions in NumPy</font>](#12)  |     \n",
    "|6   | [<font color=\"#254441\"> Data-type conversion</font>](#6)              |13  | [<font color=\"#254441\"> Split Numpy</font>](#13)     |     \n",
    "|7   | [<font color=\"#254441\"> Array with Zero & One's</font>](#7)                 |   \n",
    "\n",
    "   "
   ]
  },
  {
   "cell_type": "markdown",
   "id": "ab7b98b8",
   "metadata": {},
   "source": [
    "[<h1><font  size=4px> Move to Table of Contents</font></h1>](#20)\n",
    "<a id=\"1\"></a>\n",
    "<div class=\"alert alert-block alert-danger\">   \n",
    "<p style=\"padding:50px;background-color:#0f0d0d;margin:0;color:#e9c46a;font-family:newtimeroman;font-size:50px;text-align:center;border-radius: 00px 00px;overflow:hidden;font-weight:500\">1.Introducton</p></div> "
   ]
  },
  {
   "cell_type": "markdown",
   "id": "d931fc6c",
   "metadata": {},
   "source": [
    " NumPy stands for 'Numerical Python’. It is an open-source Python library used to perform various mathematical and scientific tasks.It is very important Library for  concentrating on AI 'Artificial intelligence'. Many of its functions are very useful for performing any mathematical or scientific calculation.It's used to support for large, multi-dimensional arrays and matrices, along with a large collection of high-level mathematical functions to operate on these arrays. As it is known that mathematics is the foundation of machine learning, most of the mathematical tasks can be performed using NumPy."
   ]
  },
  {
   "cell_type": "markdown",
   "id": "0c7e39b3",
   "metadata": {},
   "source": [
    " <img src=\"https://miro.medium.com/max/1100/1*1HgaZPEEZcMtgnL_Fq89vQ.webp\" alt=\"Drawing\" style=\"width: 900px; height:300px;\"/>\n",
    "<center>Reference:<a href=\"https://miro.medium.com/max/1100/1*1HgaZPEEZcMtgnL_Fq89vQ.webp\"> image Link</a></center>"
   ]
  },
  {
   "cell_type": "markdown",
   "id": "36acd186",
   "metadata": {},
   "source": [
    "<p style=\"padding:10px;background-color:#0f0d0d;margin:0;color:#e9c46a;font-family:newtimeroman;font-size:150%;text-align:center;border-radius: 15px 50px;overflow:hidden;font-weight:500\">How to Install Numpy</p>"
   ]
  },
  {
   "cell_type": "code",
   "execution_count": 93,
   "id": "2c32ab20",
   "metadata": {},
   "outputs": [
    {
     "name": "stdout",
     "output_type": "stream",
     "text": [
      "Requirement already satisfied: numpy in c:\\users\\haroon khan\\anaconda3\\lib\\site-packages (1.20.1)\n"
     ]
    }
   ],
   "source": [
    "!pip install numpy "
   ]
  },
  {
   "cell_type": "markdown",
   "id": "8a44c942",
   "metadata": {},
   "source": [
    "<div class=\"alert alert-block alert-warning\">\n",
    "Open Anaconda Prompt and Use the given command to install Numpy Library.\n",
    "</div>"
   ]
  },
  {
   "cell_type": "markdown",
   "id": "2df45283",
   "metadata": {},
   "source": [
    "<p style=\"padding:10px;background-color:#0f0d0d;margin:0;color:#e9c46a;font-family:newtimeroman;font-size:150%;text-align:center;border-radius: 15px 50px;overflow:hidden;font-weight:500\">How to Import Numpy</p>"
   ]
  },
  {
   "cell_type": "markdown",
   "id": "efff7501",
   "metadata": {},
   "source": [
    "<div class=\"alert alert-block alert-info\">\n",
    "Ater the installation of Numpy. You can use the Numpy Library by importing it.\n",
    "</div>"
   ]
  },
  {
   "cell_type": "code",
   "execution_count": 20,
   "id": "4ab2fd19",
   "metadata": {},
   "outputs": [],
   "source": [
    "import numpy as np     "
   ]
  },
  {
   "cell_type": "markdown",
   "id": "7ba8a221",
   "metadata": {},
   "source": [
    "[<h1><font  size=2px> Move to Table of Contents</font></h1>](#20)\n",
    "<a id=\"2\"></a>\n",
    "<p style=\"padding:10px;background-color:#0f0d0d;margin:0;color:#e9c46a;font-family:newtimeroman;font-size:150%;text-align:center;border-radius: 15px 50px;overflow:hidden;font-weight:500\">1-Dimensions Array</p>"
   ]
  },
  {
   "cell_type": "markdown",
   "id": "641b0298",
   "metadata": {},
   "source": [
    "NumPy One dimensional array contains only a list. NumPy array is a collection of elements of the same type placed in contiguous memory locations that can be store elements by index number, which is the unique identifier of element.\n"
   ]
  },
  {
   "cell_type": "markdown",
   "id": "c87153e1",
   "metadata": {},
   "source": [
    "\n",
    "<img src=\"https://miro.medium.com/max/1400/1*bjEgmg8gW2P5HsAA1_Z8Ig.webp\" alt=\"Drawing\" style=\"width: 900px; height:300px;\"/>\n",
    "<center>Reference:<a href=\"https://miro.medium.com/max/1400/1*bjEgmg8gW2P5HsAA1_Z8Ig.webp\"> image Link</a></center>"
   ]
  },
  {
   "cell_type": "code",
   "execution_count": 64,
   "id": "204c4f62",
   "metadata": {
    "scrolled": true
   },
   "outputs": [
    {
     "name": "stdout",
     "output_type": "stream",
     "text": [
      "1-Dimention Array: [44 34 12 70 26 61]\n",
      "Dimention of Array: 1\n",
      "Type of Array: <class 'numpy.ndarray'>\n"
     ]
    }
   ],
   "source": [
    "Dimen1=np.array([44,34,12,70,26,61])                              #Create 1-Dimention Array\n",
    "print('1-Dimention Array:' ,Dimen1)\n",
    "print('Dimention of Array:',Dimen1.ndim)                               # Check Dimentions of Array by the keyword \".ndim\".\n",
    "print('Type of Array:'     ,type(Dimen1))                               #Check the type of an array"
   ]
  },
  {
   "cell_type": "markdown",
   "id": "c0797bf0",
   "metadata": {},
   "source": [
    "[<h1><font  size=2px> Move to Table of Contents</font></h1>](#20)\n",
    "<a id=\"3\"></a>\n",
    "<p style=\"padding:10px;background-color:#0f0d0d;margin:0;color:#e9c46a;font-family:newtimeroman;font-size:150%;text-align:center;border-radius: 15px 50px;overflow:hidden;font-weight:500\">2-Dimensions Array</p>"
   ]
  },
  {
   "cell_type": "markdown",
   "id": "13e17694",
   "metadata": {},
   "source": [
    "Two-dimensional array is also know as Matrices which can be represented as collection of rows and columns.Two-Dimentional array contains more than one list. We can convert 1D array into 2D array.\n"
   ]
  },
  {
   "cell_type": "markdown",
   "id": "cd086823",
   "metadata": {},
   "source": [
    "<img src=\"https://miro.medium.com/max/1400/1*_u4WozjCT3S59mZS0M41lQ.webp\" alt=\"Drawing\" style=\"width: 900px; height:300px;\"/>\n",
    "<center>Reference:<a href=\"https://miro.medium.com/max/1400/1*_u4WozjCT3S59mZS0M41lQ.webp\"> image Link</a></center>"
   ]
  },
  {
   "cell_type": "code",
   "execution_count": 65,
   "id": "36adac58",
   "metadata": {
    "scrolled": true
   },
   "outputs": [
    {
     "name": "stdout",
     "output_type": "stream",
     "text": [
      "[0 1 2 3 4 5 6 7 8 9]\n",
      "Size of Array: 10\n"
     ]
    }
   ],
   "source": [
    "Mul_Dimen=np.arange(10)\n",
    "a=Mul_Dimen\n",
    "print(a)\n",
    "print('Size of Array:',a.size)"
   ]
  },
  {
   "cell_type": "markdown",
   "id": "f613cbfc",
   "metadata": {},
   "source": [
    "[<h1><font  size=3px> Move to Table of Contents</font></h1>](#20)\n",
    "<a id=\"4\"></a>\n",
    "<p style=\"padding:10px;background-color:#0f0d0d;margin:0;color:#e9c46a;font-family:newtimeroman;font-size:150%;text-align:center;border-radius: 15px 50px;overflow:hidden;font-weight:500\">Slicing in Numpy Array</p>"
   ]
  },
  {
   "cell_type": "markdown",
   "id": "4c493b1b",
   "metadata": {},
   "source": [
    "<img src=\"https://miro.medium.com/max/1400/1*D_PHnJlbtze5cqMrNngYgw.webp\" alt=\"Drawing\" style=\"width: 900px; height:300px;\"/>\n",
    "<center>Reference:<a href=\"https://miro.medium.com/max/1400/1*D_PHnJlbtze5cqMrNngYgw.webpp\"> image Link</a></center>"
   ]
  },
  {
   "cell_type": "code",
   "execution_count": 66,
   "id": "2dbce25d",
   "metadata": {},
   "outputs": [
    {
     "data": {
      "text/plain": [
       "7"
      ]
     },
     "execution_count": 66,
     "metadata": {},
     "output_type": "execute_result"
    }
   ],
   "source": [
    "a[7]                              # slice elements from array by index number"
   ]
  },
  {
   "cell_type": "code",
   "execution_count": 67,
   "id": "4b78f872",
   "metadata": {},
   "outputs": [
    {
     "data": {
      "text/plain": [
       "array([1, 2, 3, 4, 5, 6, 7, 8, 9])"
      ]
     },
     "execution_count": 67,
     "metadata": {},
     "output_type": "execute_result"
    }
   ],
   "source": [
    "a[1:]                            # print the elements of an array onward from 1 by slicing"
   ]
  },
  {
   "cell_type": "code",
   "execution_count": 68,
   "id": "7f63b6a8",
   "metadata": {},
   "outputs": [
    {
     "data": {
      "text/plain": [
       "array([1, 2, 3, 4, 5])"
      ]
     },
     "execution_count": 68,
     "metadata": {},
     "output_type": "execute_result"
    }
   ],
   "source": [
    "a[1:6]                        # print the elements of an array from 1 to 6 by slicing."
   ]
  },
  {
   "cell_type": "markdown",
   "id": "26dd9991",
   "metadata": {},
   "source": [
    "[<h1><font  size=3px> Move to Table of Contents</font></h1>](#20)\n",
    "<a id=\"5\"></a>\n",
    "<p style=\"padding:10px;background-color:#0f0d0d;margin:0;color:#e9c46a;font-family:newtimeroman;font-size:150%;text-align:center;border-radius: 15px 50px;overflow:hidden;font-weight:500\">Important Arrays attributes</p>"
   ]
  },
  {
   "cell_type": "code",
   "execution_count": 69,
   "id": "e44ca719",
   "metadata": {},
   "outputs": [
    {
     "name": "stdout",
     "output_type": "stream",
     "text": [
      "(2, 3)\n"
     ]
    }
   ],
   "source": [
    "arr = np.array([[1,2,3],[4,5,6]])  # Show the array length with Rows and Column\n",
    "print (arr.shape)                  "
   ]
  },
  {
   "cell_type": "code",
   "execution_count": 70,
   "id": "89a7bc68",
   "metadata": {},
   "outputs": [
    {
     "name": "stdout",
     "output_type": "stream",
     "text": [
      "[[1 2]\n",
      " [3 4]\n",
      " [5 6]]\n"
     ]
    }
   ],
   "source": [
    "Reshape = np.array([[1,2,3],[4,5,6]]) \n",
    "print (Reshape.reshape(3,2))        #Resizing the above array with 3 Rows and  2 column. "
   ]
  },
  {
   "cell_type": "code",
   "execution_count": 71,
   "id": "6ed0d93d",
   "metadata": {},
   "outputs": [
    {
     "name": "stdout",
     "output_type": "stream",
     "text": [
      "Total elements in Array: 4\n",
      "Bytes per Element: 24\n"
     ]
    }
   ],
   "source": [
    "fruit=np.array(['apple','banana','orange','mango'])\n",
    "print('Total elements in Array:', fruit.size)               # Showing the the number of elements in Array.\n",
    "print('Bytes per Element:',fruit.itemsize)           #Showing the number of bytes per element."
   ]
  },
  {
   "cell_type": "code",
   "execution_count": 72,
   "id": "7a8ff8b4",
   "metadata": {},
   "outputs": [
    {
     "name": "stdout",
     "output_type": "stream",
     "text": [
      "[ 4  7 12  5  9 15]\n"
     ]
    }
   ],
   "source": [
    "arr = np.array([4, 7, 12])       #Create NumPy arrays\n",
    "arr1 = np.array([5, 9, 15])\n",
    "con = np.concatenate((arr, arr1)) # Use concatenate() to join two arrays\n",
    "print(con)\n"
   ]
  },
  {
   "cell_type": "code",
   "execution_count": 73,
   "id": "dacd13f5",
   "metadata": {},
   "outputs": [
    {
     "name": "stdout",
     "output_type": "stream",
     "text": [
      "[1 2 3 4 5 6 7 8 9]\n"
     ]
    }
   ],
   "source": [
    "Sort_array=np.array([1,7,9,4,5,6,2,8,3])     #Sort() function is used to sort the array.\n",
    "print(np.sort(Sort_array))"
   ]
  },
  {
   "cell_type": "markdown",
   "id": "602dbc45",
   "metadata": {},
   "source": [
    "[<h1><font  size=3px> Move to Table of Contents</font></h1>](#20)\n",
    "<a id=\"6\"></a>\n",
    "<p style=\"padding:10px;background-color:#0f0d0d;margin:0;color:#e9c46a;font-family:newtimeroman;font-size:150%;text-align:center;border-radius: 15px 50px;overflow:hidden;font-weight:500\"> Data-Type Convertion in Numpy Array</p>"
   ]
  },
  {
   "cell_type": "code",
   "execution_count": 74,
   "id": "28defc11",
   "metadata": {},
   "outputs": [
    {
     "name": "stdout",
     "output_type": "stream",
     "text": [
      "['0' '1' '2' '3' '4' '5' '6' '7' '8' '9']\n"
     ]
    }
   ],
   "source": [
    "print(np.array(a,dtype='str'))           # Conversion of element data-Type in Array."
   ]
  },
  {
   "cell_type": "code",
   "execution_count": 75,
   "id": "164698df",
   "metadata": {},
   "outputs": [
    {
     "name": "stdout",
     "output_type": "stream",
     "text": [
      "[0. 1. 2. 3. 4. 5. 6. 7. 8. 9.]\n"
     ]
    }
   ],
   "source": [
    "print(np.array(a,dtype=float))           # Conversion of element data-Type in Array."
   ]
  },
  {
   "cell_type": "code",
   "execution_count": 76,
   "id": "5f520bef",
   "metadata": {},
   "outputs": [
    {
     "data": {
      "text/plain": [
       "array([0, 1, 2, 3, 4, 5, 6, 7, 8, 9])"
      ]
     },
     "execution_count": 76,
     "metadata": {},
     "output_type": "execute_result"
    }
   ],
   "source": [
    "np.array(a,dtype=int)             # Conversion of element data-Type in Array."
   ]
  },
  {
   "cell_type": "markdown",
   "id": "c7e3ca9f",
   "metadata": {},
   "source": [
    "[<h1><font  size=3px> Move to Table of Contents</font></h1>](#20)\n",
    "<a id=\"7\"></a>\n",
    "<p style=\"padding:10px;background-color:#0f0d0d;margin:0;color:#e9c46a;font-family:newtimeroman;font-size:150%;text-align:center;border-radius: 15px 50px;overflow:hidden;font-weight:500\">Array having all elements Zero and One's</p>"
   ]
  },
  {
   "cell_type": "code",
   "execution_count": 77,
   "id": "4fa79697",
   "metadata": {},
   "outputs": [
    {
     "name": "stdout",
     "output_type": "stream",
     "text": [
      "[[0. 0. 0. 0. 0.]\n",
      " [0. 0. 0. 0. 0.]\n",
      " [0. 0. 0. 0. 0.]\n",
      " [0. 0. 0. 0. 0.]\n",
      " [0. 0. 0. 0. 0.]\n",
      " [0. 0. 0. 0. 0.]\n",
      " [0. 0. 0. 0. 0.]\n",
      " [0. 0. 0. 0. 0.]\n",
      " [0. 0. 0. 0. 0.]\n",
      " [0. 0. 0. 0. 0.]]\n",
      "Dimention of Array: 2\n"
     ]
    }
   ],
   "source": [
    "Zero=np.zeros((10,5))               #Creating an Array with the all element Zero\n",
    "print(Zero)\n",
    "print('Dimention of Array:',Zero.ndim  )                          #Check the Dimentions of the array\n"
   ]
  },
  {
   "cell_type": "code",
   "execution_count": 78,
   "id": "441948ce",
   "metadata": {},
   "outputs": [
    {
     "name": "stdout",
     "output_type": "stream",
     "text": [
      "[[1. 1. 1. 1. 1. 1. 1. 1. 1. 1.]\n",
      " [1. 1. 1. 1. 1. 1. 1. 1. 1. 1.]\n",
      " [1. 1. 1. 1. 1. 1. 1. 1. 1. 1.]\n",
      " [1. 1. 1. 1. 1. 1. 1. 1. 1. 1.]\n",
      " [1. 1. 1. 1. 1. 1. 1. 1. 1. 1.]\n",
      " [1. 1. 1. 1. 1. 1. 1. 1. 1. 1.]\n",
      " [1. 1. 1. 1. 1. 1. 1. 1. 1. 1.]\n",
      " [1. 1. 1. 1. 1. 1. 1. 1. 1. 1.]\n",
      " [1. 1. 1. 1. 1. 1. 1. 1. 1. 1.]\n",
      " [1. 1. 1. 1. 1. 1. 1. 1. 1. 1.]\n",
      " [1. 1. 1. 1. 1. 1. 1. 1. 1. 1.]\n",
      " [1. 1. 1. 1. 1. 1. 1. 1. 1. 1.]]\n",
      "Dimention of Array: 2\n"
     ]
    }
   ],
   "source": [
    "One=np.ones((12,10))   #Creating an Array with the all element One's\n",
    "print(One)\n",
    "print('Dimention of Array:',One.ndim  )                 #Check the Dimentions of the array"
   ]
  },
  {
   "cell_type": "code",
   "execution_count": 79,
   "id": "54480033",
   "metadata": {},
   "outputs": [
    {
     "name": "stdout",
     "output_type": "stream",
     "text": [
      "[5 5 5 5 5 5 5 5 5 5 5 5]\n",
      "Dimention of Array: 1\n"
     ]
    }
   ],
   "source": [
    "full=np.full(12,5)                             #Creating an Array with 12 elements 5.\n",
    "print(full)\n",
    "print('Dimention of Array:',full.ndim  )                       #Check the Dimentions of the array"
   ]
  },
  {
   "cell_type": "markdown",
   "id": "ef2702f8",
   "metadata": {},
   "source": [
    "[<h1><font  size=2px> Move to Table of Contents</font></h1>](#20)\n",
    "<a id=\"8\"></a>\n",
    "<p style=\"padding:10px;background-color:#0f0d0d;margin:0;color:#e9c46a;font-family:newtimeroman;font-size:150%;text-align:center;border-radius: 15px 50px;overflow:hidden;font-weight:500\">Basic Maths with NumPy</p>"
   ]
  },
  {
   "cell_type": "code",
   "execution_count": 80,
   "id": "d8a35335",
   "metadata": {},
   "outputs": [
    {
     "name": "stdout",
     "output_type": "stream",
     "text": [
      "Plus all the elements: [ 7  9 11 13 15]\n",
      "Sub all the elements: [-5 -5 -5 -5 -5]\n",
      "Mul all the elements: [ 6 14 24 36 50]\n",
      "Div all the elements: [0.16666667 0.28571429 0.375      0.44444444 0.5       ]\n"
     ]
    }
   ],
   "source": [
    "math=np.array([1,2,3,4,5])\n",
    "math1=np.array([6,7,8,9,10])\n",
    "print('Plus all the elements:',math+math1)        # Plus all the elements of both arrays.\n",
    "print('Sub all the elements:' ,math-math1)        # Sub all the elements of both arrays.\n",
    "print('Mul all the elements:' ,math*math1)        # Mul all the elements of both arrays.\n",
    "print('Div all the elements:' ,math/math1)        # Div all the elements of both arrays."
   ]
  },
  {
   "cell_type": "code",
   "execution_count": 81,
   "id": "9f4532ca",
   "metadata": {},
   "outputs": [
    {
     "name": "stdout",
     "output_type": "stream",
     "text": [
      "[[ 0  1  2  3  4  5  6  7  8  9]\n",
      " [10 11 12 13 14 15 16 17 18 19]\n",
      " [20 21 22 23 24 25 26 27 28 29]\n",
      " [30 31 32 33 34 35 36 37 38 39]\n",
      " [40 41 42 43 44 45 46 47 48 49]\n",
      " [50 51 52 53 54 55 56 57 58 59]\n",
      " [60 61 62 63 64 65 66 67 68 69]\n",
      " [70 71 72 73 74 75 76 77 78 79]\n",
      " [80 81 82 83 84 85 86 87 88 89]\n",
      " [90 91 92 93 94 95 96 97 98 99]]\n",
      "Dimention of Array: 2\n"
     ]
    },
    {
     "data": {
      "text/plain": [
       "numpy.ndarray"
      ]
     },
     "execution_count": 81,
     "metadata": {},
     "output_type": "execute_result"
    }
   ],
   "source": [
    "Dimen2=np.arange(100).reshape((10,10))\n",
    "print(Dimen2)\n",
    "print('Dimention of Array:',Dimen2.ndim)\n",
    "type(Dimen2)"
   ]
  },
  {
   "cell_type": "code",
   "execution_count": 82,
   "id": "f0d80408",
   "metadata": {},
   "outputs": [
    {
     "name": "stdout",
     "output_type": "stream",
     "text": [
      "[[ 0  1  2  3  4  5  6  7  8  9]\n",
      " [10 11 12 13 14 15 16 17 18 19]\n",
      " [20 21 22 23 24 25 26 27 28 29]\n",
      " [30 31 32 33 34 35 36 37 38 39]\n",
      " [40 41 42 43 44 45 46 47 48 49]\n",
      " [50 51 52 53 54 55 56 57 58 59]\n",
      " [60 61 62 63 64 65 66 67 68 69]\n",
      " [70 71 72 73 74 75 76 77 78 79]\n",
      " [80 81 82 83 84 85 86 87 88 89]\n",
      " [90 91 92 93 94 95 96 97 98 99]]\n"
     ]
    },
    {
     "data": {
      "text/plain": [
       "array([[12]])"
      ]
     },
     "execution_count": 82,
     "metadata": {},
     "output_type": "execute_result"
    }
   ],
   "source": [
    "b=Dimen2\n",
    "print(b)\n",
    "b[1:2, 2:3]"
   ]
  },
  {
   "cell_type": "markdown",
   "id": "4cf2cc0b",
   "metadata": {},
   "source": [
    "[<h1><font  size=2px> Move to Table of Contents</font></h1>](#20)\n",
    "<a id=\"9\"></a>\n",
    "<p style=\"padding:10px;background-color:#0f0d0d;margin:0;color:#e9c46a;font-family:newtimeroman;font-size:150%;text-align:center;border-radius: 15px 50px;overflow:hidden;font-weight:500\">Array filled with random values</p>"
   ]
  },
  {
   "cell_type": "code",
   "execution_count": 83,
   "id": "72abe7bf",
   "metadata": {},
   "outputs": [
    {
     "name": "stdout",
     "output_type": "stream",
     "text": [
      "[0.95215125 0.96914497 0.17088989 0.77533197 0.7848577  0.17322359\n",
      " 0.85214702 0.72013152 0.3149681  0.90610608 0.69564304 0.76887015]\n"
     ]
    }
   ],
   "source": [
    "Random_Number=np.random.random(12)     # Create an array with 12 Random Numbers\n",
    "print(Random_Number)"
   ]
  },
  {
   "cell_type": "markdown",
   "id": "321519cf",
   "metadata": {},
   "source": [
    "<div class=\"alert alert-block alert-info\">\n",
    "    \n",
    "</div>\n"
   ]
  },
  {
   "cell_type": "code",
   "execution_count": 84,
   "id": "70c3cc2a",
   "metadata": {},
   "outputs": [
    {
     "data": {
      "text/plain": [
       "array([13, 53, 59, 70, 63, 47, 18, 63, 70, 79, 80, 87, 17, 38, 10, 82, 24,\n",
       "       22, 59, 77])"
      ]
     },
     "execution_count": 84,
     "metadata": {},
     "output_type": "execute_result"
    }
   ],
   "source": [
    "Random_int=np.random.randint(1,100,20)\n",
    "Random_int"
   ]
  },
  {
   "cell_type": "markdown",
   "id": "4a1da426",
   "metadata": {},
   "source": [
    "<div class=\"alert alert-block alert-info\">\n",
    "    Print random 20 values between 1 to 100.\n",
    "</div>\n"
   ]
  },
  {
   "cell_type": "markdown",
   "id": "7209c93b",
   "metadata": {},
   "source": [
    "[<h1><font  size=2px> Move to Table of Contents</font></h1>](#20)\n",
    "<a id=\"10\"></a>\n",
    "<p style=\"padding:10px;background-color:#0f0d0d;margin:0;color:#e9c46a;font-family:newtimeroman;font-size:150%;text-align:center;border-radius: 15px 50px;overflow:hidden;font-weight:500\">Minimum and Maximum value from an array</p>"
   ]
  },
  {
   "cell_type": "code",
   "execution_count": 85,
   "id": "a764136d",
   "metadata": {},
   "outputs": [
    {
     "name": "stdout",
     "output_type": "stream",
     "text": [
      "[[ 1  2  3  4  5]\n",
      " [ 6  7  8  9 10]\n",
      " [11 12 13 14 15]]\n",
      "[ 1  6 11]\n"
     ]
    }
   ],
   "source": [
    "min_max=np.array([[1,2,3,4,5],[6,7,8,9,10],[11,12,13,14,15]])\n",
    "print(min_max)\n",
    "print(min_max.min(axis=1))      # Min of each row of array"
   ]
  },
  {
   "cell_type": "code",
   "execution_count": 86,
   "id": "bde04825",
   "metadata": {},
   "outputs": [
    {
     "name": "stdout",
     "output_type": "stream",
     "text": [
      "[11 12 13 14 15]\n"
     ]
    }
   ],
   "source": [
    "print(min_max.max(axis=0))        # Min of each column of array"
   ]
  },
  {
   "cell_type": "markdown",
   "id": "4ec5a33e",
   "metadata": {},
   "source": [
    "[<h1><font  size=2px> Move to Table of Contents</font></h1>](#20)\n",
    "<a id=\"11\"></a>\n",
    "<p style=\"padding:10px;background-color:#0f0d0d;margin:0;color:#e9c46a;font-family:newtimeroman;font-size:150%;text-align:center;border-radius: 15px 50px;overflow:hidden;font-weight:500\">Round down and Round up of elements of an array</p>"
   ]
  },
  {
   "cell_type": "code",
   "execution_count": 87,
   "id": "d1b7d654",
   "metadata": {},
   "outputs": [
    {
     "name": "stdout",
     "output_type": "stream",
     "text": [
      "[1. 2.]\n",
      "[2. 3.]\n"
     ]
    }
   ],
   "source": [
    "                             # Round down\n",
    "print(np.floor([1.2, 2.5]))\n",
    "                             # Round up\n",
    "print(np.ceil([1.2, 2.5]))"
   ]
  },
  {
   "cell_type": "markdown",
   "id": "9cec0da1",
   "metadata": {},
   "source": [
    "[<h1><font  size=2px> Move to Table of Contents</font></h1>](#20)\n",
    "<a id=\"12\"></a>\n",
    "<p style=\"padding:10px;background-color:#0f0d0d;margin:0;color:#e9c46a;font-family:newtimeroman;font-size:150%;text-align:center;border-radius: 15px 50px;overflow:hidden;font-weight:500\">Important Statistics Functions in NumPy</p>"
   ]
  },
  {
   "cell_type": "code",
   "execution_count": 88,
   "id": "26efd69c",
   "metadata": {},
   "outputs": [
    {
     "name": "stdout",
     "output_type": "stream",
     "text": [
      "[1 2 3 4 5]\n",
      "Mean: 3.0\n",
      "Median: 3.0\n",
      "Average: 3.0\n",
      "Standard Deviation: 1.4142135623730951\n",
      "Variance: 2.0\n"
     ]
    }
   ],
   "source": [
    "arr_1 = np.arange(1, 6)\n",
    "print(arr_1)\n",
    "#mean\n",
    "print('Mean:',np.mean(arr_1))\n",
    "#median\n",
    "print('Median:',np.median(arr_1))\n",
    "#average\n",
    "print('Average:',np.average(arr_1))\n",
    "# Standard Deviation\n",
    "print('Standard Deviation:',np.std([4, 6, 3, 5, 2])) \n",
    "#variance\n",
    "print('Variance:',np.var([4, 6, 3, 5, 2]))"
   ]
  },
  {
   "cell_type": "markdown",
   "id": "ef1e09b0",
   "metadata": {},
   "source": [
    "[<h1><font  size=2px> Move to Table of Contents</font></h1>](#20)\n",
    "<a id=\"13\"></a>\n",
    "<p style=\"padding:10px;background-color:#0f0d0d;margin:0;color:#e9c46a;font-family:newtimeroman;font-size:150%;text-align:center;border-radius: 15px 50px;overflow:hidden;font-weight:500\">Splitting NumPy Arrays</p>"
   ]
  },
  {
   "cell_type": "markdown",
   "id": "28af0127",
   "metadata": {},
   "source": [
    "<img src=\"https://miro.medium.com/max/1400/1*AENBh3KxxiDivXw_QIz8aA.webp\" alt=\"Drawing\" style=\"width: 900px; height:300px;\"/>\n",
    "<center>Reference:<a href=\"https://miro.medium.com/max/1400/1*AENBh3KxxiDivXw_QIz8aA.webp\"> image Link</a></center>"
   ]
  },
  {
   "cell_type": "code",
   "execution_count": 89,
   "id": "70984201",
   "metadata": {},
   "outputs": [
    {
     "name": "stdout",
     "output_type": "stream",
     "text": [
      "[array([1, 2, 3, 4, 5]), array([ 6,  7,  8,  9, 10])]\n"
     ]
    }
   ],
   "source": [
    "split_array=np.array([1,2,3,4,5,6,7,8,9,10])\n",
    "print(np.split(split_array,2))"
   ]
  },
  {
   "cell_type": "markdown",
   "id": "4b0f46b7",
   "metadata": {},
   "source": [
    "\n",
    "<div class=\"alert alert-block alert-info\">\n",
    "   Splitting breaks one array into multiple. \n",
    "</div>\n"
   ]
  },
  {
   "cell_type": "code",
   "execution_count": 90,
   "id": "bad95c12",
   "metadata": {},
   "outputs": [
    {
     "name": "stdout",
     "output_type": "stream",
     "text": [
      "[array([[1, 2, 3],\n",
      "       [4, 5, 6]]), array([[ 7,  8,  9],\n",
      "       [10, 11, 12]]), array([[13, 14, 15],\n",
      "       [16, 17, 18]])]\n"
     ]
    }
   ],
   "source": [
    "split_array1=np.array([[1,2,3],[4,5,6],[7,8,9],[10,11,12],[13,14,15],[16,17,18]])\n",
    "print(np.split(split_array1,3))"
   ]
  },
  {
   "cell_type": "markdown",
   "id": "966feef3",
   "metadata": {},
   "source": [
    "\n",
    "<div class=\"alert alert-block alert-info\">\n",
    "   Multi-Dimentional array breaks into multiple arrays. \n",
    "</div>\n"
   ]
  },
  {
   "cell_type": "code",
   "execution_count": 91,
   "id": "7daa5b0f",
   "metadata": {},
   "outputs": [
    {
     "name": "stdout",
     "output_type": "stream",
     "text": [
      "[array([[ 1],\n",
      "       [ 4],\n",
      "       [ 7],\n",
      "       [10],\n",
      "       [13],\n",
      "       [16]]), array([[ 2],\n",
      "       [ 5],\n",
      "       [ 8],\n",
      "       [11],\n",
      "       [14],\n",
      "       [17]]), array([[ 3],\n",
      "       [ 6],\n",
      "       [ 9],\n",
      "       [12],\n",
      "       [15],\n",
      "       [18]])]\n"
     ]
    }
   ],
   "source": [
    "split_array2=np.array([[1,2,3],[4,5,6],[7,8,9],[10,11,12],[13,14,15],[16,17,18]])\n",
    "print(np.hsplit(split_array2,3))"
   ]
  },
  {
   "cell_type": "code",
   "execution_count": 92,
   "id": "0ed81f72",
   "metadata": {},
   "outputs": [
    {
     "name": "stdout",
     "output_type": "stream",
     "text": [
      "[array([[1, 2, 3],\n",
      "       [4, 5, 6]]), array([[ 7,  8,  9],\n",
      "       [10, 11, 12]]), array([[13, 14, 15],\n",
      "       [16, 17, 18]])]\n"
     ]
    }
   ],
   "source": [
    "split_array2=np.array([[1,2,3],[4,5,6],[7,8,9],[10,11,12],[13,14,15],[16,17,18]])\n",
    "print(np.vsplit(split_array2,3))"
   ]
  },
  {
   "cell_type": "markdown",
   "id": "8fbeef79",
   "metadata": {},
   "source": [
    "\n",
    "<div class=\"alert alert-block alert-info\">\n",
    "   vsplit() function split an array into multiple sub-arrays row-wise.\n",
    "</div>\n"
   ]
  },
  {
   "cell_type": "markdown",
   "id": "91da6518",
   "metadata": {},
   "source": [
    "# <p style=\"padding:10px;background-color:#0f0d0d;margin:0;color:#e9c46a;font-family:newtimeroman;font-size:100%;text-align:center;border-radius: 15px 50px;overflow:hidden;font-weight:500\">Thank You!</p>\n",
    "<h3><font color=\"#254441\">If you liked this notebook please upvote. Your feedback will be highly appreciated.</font></h3>\n",
    "​"
   ]
  }
 ],
 "metadata": {
  "kernelspec": {
   "display_name": "Python 3",
   "language": "python",
   "name": "python3"
  },
  "language_info": {
   "codemirror_mode": {
    "name": "ipython",
    "version": 3
   },
   "file_extension": ".py",
   "mimetype": "text/x-python",
   "name": "python",
   "nbconvert_exporter": "python",
   "pygments_lexer": "ipython3",
   "version": "3.8.8"
  }
 },
 "nbformat": 4,
 "nbformat_minor": 5
}
